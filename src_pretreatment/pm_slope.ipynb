{
 "cells": [
  {
   "cell_type": "code",
   "execution_count": 1,
   "id": "2fffd2d5-f0c4-4716-80ec-977a16c15ab1",
   "metadata": {},
   "outputs": [],
   "source": [
    "import pandas as pd\n",
    "import numpy as np\n",
    "import matplotlib.pyplot as plt"
   ]
  },
  {
   "cell_type": "code",
   "execution_count": 2,
   "id": "fe4cc3a6-cec1-4a5a-8949-4dbd7b8ff464",
   "metadata": {},
   "outputs": [],
   "source": [
    "pm_slope = pd.read_csv('../data/PM/ave_seoulslope_accident.csv')"
   ]
  },
  {
   "cell_type": "code",
   "execution_count": 3,
   "id": "d3dfa30f-dd0a-4448-b591-9f70b73f7e0a",
   "metadata": {},
   "outputs": [
    {
     "data": {
      "text/html": [
       "<div>\n",
       "<style scoped>\n",
       "    .dataframe tbody tr th:only-of-type {\n",
       "        vertical-align: middle;\n",
       "    }\n",
       "\n",
       "    .dataframe tbody tr th {\n",
       "        vertical-align: top;\n",
       "    }\n",
       "\n",
       "    .dataframe thead th {\n",
       "        text-align: right;\n",
       "    }\n",
       "</style>\n",
       "<table border=\"1\" class=\"dataframe\">\n",
       "  <thead>\n",
       "    <tr style=\"text-align: right;\">\n",
       "      <th></th>\n",
       "      <th>Unnamed: 0</th>\n",
       "      <th>index</th>\n",
       "      <th>level_0</th>\n",
       "      <th>경도</th>\n",
       "      <th>위도</th>\n",
       "      <th>mean</th>\n",
       "    </tr>\n",
       "  </thead>\n",
       "  <tbody>\n",
       "    <tr>\n",
       "      <th>0</th>\n",
       "      <td>0</td>\n",
       "      <td>0</td>\n",
       "      <td>0</td>\n",
       "      <td>127.094078</td>\n",
       "      <td>37.521414</td>\n",
       "      <td>3.574267</td>\n",
       "    </tr>\n",
       "    <tr>\n",
       "      <th>1</th>\n",
       "      <td>1</td>\n",
       "      <td>1</td>\n",
       "      <td>1</td>\n",
       "      <td>127.016009</td>\n",
       "      <td>37.493411</td>\n",
       "      <td>0.368618</td>\n",
       "    </tr>\n",
       "    <tr>\n",
       "      <th>2</th>\n",
       "      <td>2</td>\n",
       "      <td>2</td>\n",
       "      <td>2</td>\n",
       "      <td>127.072692</td>\n",
       "      <td>37.559461</td>\n",
       "      <td>1.401368</td>\n",
       "    </tr>\n",
       "    <tr>\n",
       "      <th>3</th>\n",
       "      <td>3</td>\n",
       "      <td>3</td>\n",
       "      <td>3</td>\n",
       "      <td>126.905424</td>\n",
       "      <td>37.575334</td>\n",
       "      <td>3.929124</td>\n",
       "    </tr>\n",
       "    <tr>\n",
       "      <th>4</th>\n",
       "      <td>4</td>\n",
       "      <td>4</td>\n",
       "      <td>4</td>\n",
       "      <td>127.069192</td>\n",
       "      <td>37.510617</td>\n",
       "      <td>3.673061</td>\n",
       "    </tr>\n",
       "  </tbody>\n",
       "</table>\n",
       "</div>"
      ],
      "text/plain": [
       "   Unnamed: 0  index  level_0          경도         위도      mean\n",
       "0           0      0        0  127.094078  37.521414  3.574267\n",
       "1           1      1        1  127.016009  37.493411  0.368618\n",
       "2           2      2        2  127.072692  37.559461  1.401368\n",
       "3           3      3        3  126.905424  37.575334  3.929124\n",
       "4           4      4        4  127.069192  37.510617  3.673061"
      ]
     },
     "execution_count": 3,
     "metadata": {},
     "output_type": "execute_result"
    }
   ],
   "source": [
    "pm_slope.head()"
   ]
  },
  {
   "cell_type": "code",
   "execution_count": 4,
   "id": "9871bd43-a1c3-43b8-bebd-91174ffea811",
   "metadata": {},
   "outputs": [
    {
     "data": {
      "image/png": "[encoded data removed]",
      "text/plain": [
       "<Figure size 432x288 with 1 Axes>"
      ]
     },
     "metadata": {
      "needs_background": "light"
     },
     "output_type": "display_data"
    }
   ],
   "source": [
    "# 경사도 도시\n",
    "plt.title('slope')\n",
    "plt.hist(pm_slope['mean'], color = 'r', alpha = 0.5)\n",
    "plt.savefig('../data/accident_slope.png')"
   ]
  },
  {
   "cell_type": "code",
   "execution_count": 6,
   "id": "033e8dad-7b95-420f-a7ca-7de509a35728",
   "metadata": {},
   "outputs": [
    {
     "data": {
      "text/plain": [
       "pandas.core.series.Series"
      ]
     },
     "execution_count": 6,
     "metadata": {},
     "output_type": "execute_result"
    }
   ],
   "source": [
    "type(pm_slope['mean'])"
   ]
  },
  {
   "cell_type": "code",
   "execution_count": 8,
   "id": "0ae68629-28a0-4287-a4f5-34e9f4ab5ba2",
   "metadata": {},
   "outputs": [
    {
     "name": "stdout",
     "output_type": "stream",
     "text": [
      "slope max = %d, slope min = %d 5.215480327606201 0.0385240130126476\n"
     ]
    }
   ],
   "source": [
    "print(\"slope max = %d, slope min = %d\", pm_slope['mean'].max(), pm_slope['mean'].min())"
   ]
  },
  {
   "cell_type": "code",
   "execution_count": null,
   "id": "9b9003d1-84d4-413c-84d9-9318c4100c48",
   "metadata": {},
   "outputs": [],
   "source": []
  }
 ],
 "metadata": {
  "kernelspec": {
   "display_name": "GIS",
   "language": "python",
   "name": "gis"
  },
  "language_info": {
   "codemirror_mode": {
    "name": "ipython",
    "version": 3
   },
   "file_extension": ".py",
   "mimetype": "text/x-python",
   "name": "python",
   "nbconvert_exporter": "python",
   "pygments_lexer": "ipython3",
   "version": "3.8.13"
  }
 },
 "nbformat": 4,
 "nbformat_minor": 5
}
