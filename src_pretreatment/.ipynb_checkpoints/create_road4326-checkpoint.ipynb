{
 "cells": [
  {
   "cell_type": "markdown",
   "id": "714a671f-950c-4103-86ef-101a2bb5c8e9",
   "metadata": {},
   "source": [
    "## 도로폭이 반영된 폴리곤 자료 생성"
   ]
  },
  {
   "cell_type": "code",
   "execution_count": 1,
   "id": "7dd76402-0e3f-422d-86b4-483487f3d55b",
   "metadata": {},
   "outputs": [],
   "source": [
    "import geopandas as gpd\n",
    "import pandas as pd\n",
    "import chardet"
   ]
  },
  {
   "cell_type": "markdown",
   "id": "bc7649c2-56d2-465c-8614-3e3b36bd45b3",
   "metadata": {},
   "source": [
    "url = '../data/road/Z_KAIS_TL_SPRD_MANAGE_11000.shp'\n",
    "rawdata = open(url, 'rb').read()\n",
    "result = chardet.detect(rawdata)\n",
    "charenc = result['encoding']\n",
    "charenc"
   ]
  },
  {
   "cell_type": "code",
   "execution_count": 2,
   "id": "0e8084d5-69a1-4a9d-a174-d483f1209125",
   "metadata": {},
   "outputs": [],
   "source": [
    "# linestring이 포함된 road 불러오기\n",
    "road = gpd.read_file('../data/road/Z_KAIS_TL_SPRD_MANAGE_11000.shp', encoding = 'euc-kr').to_crs(4326)\n",
    "# 도로 폭 정보가 포함된 roadInfo 불러오기\n",
    "roadInfo = pd.read_csv('../data/road/서울시 도로노선 정보.csv', encoding='euc-kr')"
   ]
  },
  {
   "cell_type": "code",
   "execution_count": 3,
   "id": "4c7a267e-531e-4f8f-a8b9-01e51539b38b",
   "metadata": {},
   "outputs": [
    {
     "data": {
      "text/plain": [
       "Index(['ALWNC_DE', 'ALWNC_RESN', 'BSI_INT', 'ENG_RN', 'MVMN_DE', 'MVMN_RESN',\n",
       "       'MVM_RES_CD', 'NTFC_DE', 'OPERT_DE', 'RBP_CN', 'RDS_DPN_SE',\n",
       "       'RDS_MAN_NO', 'REP_CN', 'RN', 'RN_CD', 'ROAD_BT', 'ROAD_LT',\n",
       "       'ROA_CLS_SE', 'SIG_CD', 'WDR_RD_CD', 'geometry', '순번', '도로종류', '도로기능',\n",
       "       '도로규모', '도로폭', '시도구도구분'],\n",
       "      dtype='object')"
      ]
     },
     "execution_count": 3,
     "metadata": {},
     "output_type": "execute_result"
    }
   ],
   "source": [
    "# 여기서 이너조인인지 아우터조인인지?? 아무튼 도로명을 기준으로 조인\n",
    "roadInfo.rename(columns={'노선명(도로명)' : 'RN'}, inplace=True)\n",
    "seoul_road = pd.merge(road, roadInfo, how='inner', on='RN')\n",
    "seoul_road.columns"
   ]
  },
  {
   "cell_type": "code",
   "execution_count": 4,
   "id": "1e1ffd48-0d18-4406-abd7-4a9ceb605894",
   "metadata": {},
   "outputs": [
    {
     "ename": "TypeError",
     "evalue": "can't multiply sequence by non-int of type 'float'",
     "output_type": "error",
     "traceback": [
      "\u001b[1;31m---------------------------------------------------------------------------\u001b[0m",
      "\u001b[1;31mTypeError\u001b[0m                                 Traceback (most recent call last)",
      "Input \u001b[1;32mIn [4]\u001b[0m, in \u001b[0;36m<cell line: 7>\u001b[1;34m()\u001b[0m\n\u001b[0;32m      2\u001b[0m beforeReplace \u001b[38;5;241m=\u001b[39m [\u001b[38;5;124m'\u001b[39m\u001b[38;5;124m6m미만\u001b[39m\u001b[38;5;124m'\u001b[39m,\u001b[38;5;124m'\u001b[39m\u001b[38;5;124m폭6-8m\u001b[39m\u001b[38;5;124m'\u001b[39m,\u001b[38;5;124m'\u001b[39m\u001b[38;5;124m폭8-10m\u001b[39m\u001b[38;5;124m'\u001b[39m,\u001b[38;5;124m'\u001b[39m\u001b[38;5;124m폭10-12m\u001b[39m\u001b[38;5;124m'\u001b[39m,\u001b[38;5;124m'\u001b[39m\u001b[38;5;124m폭12-15m\u001b[39m\u001b[38;5;124m'\u001b[39m,\n\u001b[0;32m      3\u001b[0m                  \u001b[38;5;124m'\u001b[39m\u001b[38;5;124m폭15-20m\u001b[39m\u001b[38;5;124m'\u001b[39m,\u001b[38;5;124m'\u001b[39m\u001b[38;5;124m폭20-25m\u001b[39m\u001b[38;5;124m'\u001b[39m,\u001b[38;5;124m'\u001b[39m\u001b[38;5;124m폭25-30m\u001b[39m\u001b[38;5;124m'\u001b[39m,\u001b[38;5;124m'\u001b[39m\u001b[38;5;124m폭30-35m\u001b[39m\u001b[38;5;124m'\u001b[39m,\n\u001b[0;32m      4\u001b[0m                  \u001b[38;5;124m'\u001b[39m\u001b[38;5;124m폭35-40m\u001b[39m\u001b[38;5;124m'\u001b[39m,\u001b[38;5;124m'\u001b[39m\u001b[38;5;124m폭40-50m\u001b[39m\u001b[38;5;124m'\u001b[39m,\u001b[38;5;124m'\u001b[39m\u001b[38;5;124m폭50-70m\u001b[39m\u001b[38;5;124m'\u001b[39m,\u001b[38;5;124m'\u001b[39m\u001b[38;5;124m폭70m이상\u001b[39m\u001b[38;5;124m'\u001b[39m]\n\u001b[0;32m      5\u001b[0m afterReplace \u001b[38;5;241m=\u001b[39m [\u001b[38;5;241m5.0\u001b[39m, \u001b[38;5;241m7.0\u001b[39m, \u001b[38;5;241m9.0\u001b[39m, \u001b[38;5;241m11.0\u001b[39m, \u001b[38;5;241m13.5\u001b[39m, \u001b[38;5;241m17.5\u001b[39m, \u001b[38;5;241m22.5\u001b[39m,\n\u001b[0;32m      6\u001b[0m                \u001b[38;5;241m27.5\u001b[39m, \u001b[38;5;241m32.5\u001b[39m, \u001b[38;5;241m37.5\u001b[39m, \u001b[38;5;241m45.0\u001b[39m, \u001b[38;5;241m60.0\u001b[39m, \u001b[38;5;241m70.0\u001b[39m]\n\u001b[1;32m----> 7\u001b[0m afterReplace \u001b[38;5;241m*\u001b[39m\u001b[38;5;241m=\u001b[39m \u001b[38;5;241m.05\u001b[39m\n\u001b[0;32m      8\u001b[0m \u001b[38;5;28;01mfor\u001b[39;00m i \u001b[38;5;129;01min\u001b[39;00m \u001b[38;5;28mrange\u001b[39m(\u001b[38;5;241m13\u001b[39m):\n\u001b[0;32m      9\u001b[0m     seoul_road\u001b[38;5;241m.\u001b[39mreplace({\u001b[38;5;124m'\u001b[39m\u001b[38;5;124m도로폭\u001b[39m\u001b[38;5;124m'\u001b[39m:beforeReplace[i]}, afterReplace[i], inplace\u001b[38;5;241m=\u001b[39m\u001b[38;5;28;01mTrue\u001b[39;00m)\n",
      "\u001b[1;31mTypeError\u001b[0m: can't multiply sequence by non-int of type 'float'"
     ]
    }
   ],
   "source": [
    "# str로 된 도로폭을 구간 중간값 float로 변경\n",
    "beforeReplace = ['6m미만','폭6-8m','폭8-10m','폭10-12m','폭12-15m',\n",
    "                 '폭15-20m','폭20-25m','폭25-30m','폭30-35m',\n",
    "                 '폭35-40m','폭40-50m','폭50-70m','폭70m이상']\n",
    "afterReplace = [5.0, 7.0, 9.0, 11.0, 13.5, 17.5, 22.5,\n",
    "               27.5, 32.5, 37.5, 45.0, 60.0, 70.0]\n",
    "afterReplace *= .05\n",
    "for i in range(13):\n",
    "    seoul_road.replace({'도로폭':beforeReplace[i]}, afterReplace[i], inplace=True)\n",
    "seoul_road"
   ]
  },
  {
   "cell_type": "code",
   "execution_count": null,
   "id": "f7549e5d-110d-49de-a76b-161181a67779",
   "metadata": {},
   "outputs": [],
   "source": [
    "# buffer\n",
    "buff_road = seoul_road.buffer(seoul_road['도로폭'])\n",
    "# buffer된 폴리곤을 기존 linestring 속성과 대체\n",
    "seoul_road.geometry = buff_road\n",
    "seoul_road"
   ]
  },
  {
   "cell_type": "code",
   "execution_count": null,
   "id": "198223b4-30bd-466c-8c2f-2071e59a7ae3",
   "metadata": {},
   "outputs": [],
   "source": [
    "seoul_road.plot()"
   ]
  },
  {
   "cell_type": "code",
   "execution_count": null,
   "id": "4b24ad95-a3ad-4aa0-88b1-7c65bd375f87",
   "metadata": {},
   "outputs": [],
   "source": [
    "seoul_road.geometry.to_file('../data/road/road4326.shp', encoding='euc-kr')"
   ]
  },
  {
   "cell_type": "code",
   "execution_count": null,
   "id": "507ed449-8242-4595-8793-76de03e3ff13",
   "metadata": {},
   "outputs": [],
   "source": [
    "# geojson은 용량이넘커여\n",
    "buff_road.to_file('../data/road/buff_road4326.shp', encoding='euc-kr')"
   ]
  },
  {
   "cell_type": "code",
   "execution_count": null,
   "id": "529cd207-0af7-46a3-8642-f6ead2a832ad",
   "metadata": {},
   "outputs": [],
   "source": [
    "seoul_road[seoul_road['RN'] == '%가양%']"
   ]
  },
  {
   "cell_type": "code",
   "execution_count": null,
   "id": "55ff0b4f-15dd-4825-bad1-e37498c95e0d",
   "metadata": {},
   "outputs": [],
   "source": [
    "traffic = pd.read_csv(\"../data/road/총 교통량_지점별.csv\", encoding='euc-kr')\n",
    "traffic.rename(columns = {'지점명' : 'RN'}, inplace=True)\n",
    "traffic"
   ]
  },
  {
   "cell_type": "code",
   "execution_count": null,
   "id": "a6d9b6e0-a7fb-42fe-901e-acf47ac1e8b5",
   "metadata": {},
   "outputs": [],
   "source": [
    "# seoul_road에 교통량 속성 추가. traffic의 '지점명'과 seoul_road의 'RN' 속성이 같은 조건으로\n",
    "road_traffic = pd.merge(seoul_road, traffic, on='RN', how = 'left')\n",
    "road_traffic"
   ]
  },
  {
   "cell_type": "code",
   "execution_count": null,
   "id": "89d74803-e288-4674-8ae2-1602dd93bdca",
   "metadata": {},
   "outputs": [],
   "source": [
    "road_traffic.to_csv('../data/road/road_traffic.csv', encoding='euc-kr')"
   ]
  },
  {
   "cell_type": "code",
   "execution_count": null,
   "id": "d95282f1-489c-425f-a234-195e330dffc0",
   "metadata": {},
   "outputs": [],
   "source": [
    "# 왜 seoul road를 euckr로 내보내면 UnicodeDecodeError 오류나지?? 그걸로 불러왔는데???\n",
    "# seoul_road.to_csv('../data/road/seoul_road.csv', encoding='euc-kr')"
   ]
  },
  {
   "cell_type": "code",
   "execution_count": null,
   "id": "7ed6d22a-49e5-4c32-a912-8595e663fb89",
   "metadata": {},
   "outputs": [],
   "source": []
  }
 ],
 "metadata": {
  "kernelspec": {
   "display_name": "GIS",
   "language": "python",
   "name": "gis"
  },
  "language_info": {
   "codemirror_mode": {
    "name": "ipython",
    "version": 3
   },
   "file_extension": ".py",
   "mimetype": "text/x-python",
   "name": "python",
   "nbconvert_exporter": "python",
   "pygments_lexer": "ipython3",
   "version": "3.8.13"
  }
 },
 "nbformat": 4,
 "nbformat_minor": 5
}
