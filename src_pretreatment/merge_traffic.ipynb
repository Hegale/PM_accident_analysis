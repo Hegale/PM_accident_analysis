{
 "cells": [
  {
   "cell_type": "code",
   "execution_count": 1,
   "id": "cb8a4723-67bb-4d76-90fc-7cb82d5f0c27",
   "metadata": {},
   "outputs": [],
   "source": [
    "import pandas as pd\n",
    "import numpy as np"
   ]
  },
  {
   "cell_type": "code",
   "execution_count": 2,
   "id": "051080b1-2d2d-4819-9b72-207f40bdb1af",
   "metadata": {},
   "outputs": [],
   "source": [
    "def traffic_groupby(df):\n",
    "    return df.groupby('지점명').agg({'교통량' : 'sum'})"
   ]
  },
  {
   "cell_type": "code",
   "execution_count": 3,
   "id": "ed714c81-c367-4561-bc2f-a4f69df6e21e",
   "metadata": {},
   "outputs": [],
   "source": [
    "def merge_months(df1, df2):\n",
    "    # 두 그룹된 데이터프레임을 병합하여 반환\n",
    "    df2.fillna(0.0, inplace=True)\n",
    "    merged = pd.merge(df1, df2, how='outer', on='지점명')\n",
    "    merged.fillna(0.0, inplace=True)\n",
    "    merged.iloc[:, 0] = merged.iloc[:, 0] + merged.iloc[:, 1]\n",
    "    merged.drop(merged.columns[1], axis=1, inplace=True)\n",
    "    return merged"
   ]
  },
  {
   "cell_type": "code",
   "execution_count": 4,
   "id": "ecc8b6a1-c949-41c0-aaf2-d3bf10f726fd",
   "metadata": {},
   "outputs": [],
   "source": [
    "# 월별 교통량을 합산한 Dataframe 반환\n",
    "def merge_trafficInfo(url, month):\n",
    "    df = pd.read_excel(url, sheet_name = month)\n",
    "    df.fillna(0.0, inplace=True)\n",
    "    # 월별 교통량을 합쳐 '교통량' 속성 추가\n",
    "    df['교통량'] = 0\n",
    "    for i in range(24):\n",
    "        if (df[str(i) + '시'].dtypes != float and df[str(i) + '시'].dtypes != int):\n",
    "            df[str(i) + '시'] = df[str(i) + '시'].str.extract(r'(\\d+)')\n",
    "            df[str(i) + '시'].astype('float')\n",
    "        df['교통량'] += df[str(i) + '시']\n",
    "    # 교통량 산출 후, 시간별 교통량은 삭제\n",
    "    for i in range(24):\n",
    "        df.drop([str(i) + '시'], axis=1, inplace = True)\n",
    "    return df"
   ]
  },
  {
   "cell_type": "code",
   "execution_count": 5,
   "id": "953ac1a3-f94e-4620-9e83-e0a648d16a06",
   "metadata": {},
   "outputs": [
    {
     "name": "stdout",
     "output_type": "stream",
     "text": [
      "2017 1 ../data/traffic/2017/1월 서울시 교통량 조사자료.xlsx\n",
      "2017 2 ../data/traffic/2017/2월 서울시 교통량 조사자료.xlsx\n",
      "2017 3 ../data/traffic/2017/3월 서울시 교통량 조사자료.xlsx\n",
      "2017 4 ../data/traffic/2017/4월 서울시 교통량 조사자료.xlsx\n",
      "2017 5 ../data/traffic/2017/5월 서울시 교통량 조사자료.xlsx\n",
      "2017 6 ../data/traffic/2017/6월 서울시 교통량 조사자료.xlsx\n",
      "2017 7 ../data/traffic/2017/7월 서울시 교통량 조사자료.xlsx\n",
      "2017 8 ../data/traffic/2017/8월 서울시 교통량 조사자료.xlsx\n",
      "2017 9 ../data/traffic/2017/9월 서울시 교통량 조사자료.xlsx\n",
      "2017 10 ../data/traffic/2017/10월 서울시 교통량 조사자료.xlsx\n",
      "2017 11 ../data/traffic/2017/11월 서울시 교통량 조사자료.xlsx\n",
      "2017 12 ../data/traffic/2017/12월 서울시 교통량 조사자료.xlsx\n",
      "2018 1 ../data/traffic/2018/1월 서울시 교통량 조사자료.xlsx\n",
      "2018 2 ../data/traffic/2018/2월 서울시 교통량 조사자료.xlsx\n",
      "2018 3 ../data/traffic/2018/3월 서울시 교통량 조사자료.xlsx\n",
      "2018 4 ../data/traffic/2018/4월 서울시 교통량 조사자료.xlsx\n",
      "2018 5 ../data/traffic/2018/5월 서울시 교통량 조사자료.xlsx\n",
      "2018 6 ../data/traffic/2018/6월 서울시 교통량 조사자료.xlsx\n",
      "2018 7 ../data/traffic/2018/7월 서울시 교통량 조사자료.xlsx\n",
      "2018 8 ../data/traffic/2018/8월 서울시 교통량 조사자료.xlsx\n",
      "2018 9 ../data/traffic/2018/9월 서울시 교통량 조사자료.xlsx\n",
      "2018 10 ../data/traffic/2018/10월 서울시 교통량 조사자료.xlsx\n",
      "2018 11 ../data/traffic/2018/11월 서울시 교통량 조사자료.xlsx\n",
      "2018 12 ../data/traffic/2018/12월 서울시 교통량 조사자료.xlsx\n",
      "2019 1 ../data/traffic/2019/1월 서울시 교통량 조사자료.xlsx\n",
      "2019 2 ../data/traffic/2019/2월 서울시 교통량 조사자료.xlsx\n",
      "2019 3 ../data/traffic/2019/3월 서울시 교통량 조사자료.xlsx\n",
      "2019 4 ../data/traffic/2019/4월 서울시 교통량 조사자료.xlsx\n",
      "2019 5 ../data/traffic/2019/5월 서울시 교통량 조사자료.xlsx\n",
      "2019 6 ../data/traffic/2019/6월 서울시 교통량 조사자료.xlsx\n",
      "2019 7 ../data/traffic/2019/7월 서울시 교통량 조사자료.xlsx\n",
      "2019 8 ../data/traffic/2019/8월 서울시 교통량 조사자료.xlsx\n",
      "2019 9 ../data/traffic/2019/9월 서울시 교통량 조사자료.xlsx\n",
      "2019 10 ../data/traffic/2019/10월 서울시 교통량 조사자료.xlsx\n",
      "2019 11 ../data/traffic/2019/11월 서울시 교통량 조사자료.xlsx\n",
      "2019 12 ../data/traffic/2019/12월 서울시 교통량 조사자료.xlsx\n"
     ]
    }
   ],
   "source": [
    "url = '../data/traffic/'\n",
    "years = ['2017', '2018', '2019']\n",
    "traffic = []\n",
    "\n",
    "for year in years:\n",
    "    for i in range(1, 13):\n",
    "        # 2017~2019년 서울시 교통량 파일의 경로 생성\n",
    "        openUrl = url + year + '/' + str(i) + '월 서울시 교통량 조사자료.xlsx'\n",
    "        print(year, i, openUrl)\n",
    "        df = merge_trafficInfo(openUrl, year + '년 ' + str(i) + '월')\n",
    "        \n",
    "        # merge_month를 이용해 월별 교통량을 반복해서 병합\n",
    "        if (i == 1) : \n",
    "            df_prev = traffic_groupby(df)\n",
    "            continue\n",
    "        df = traffic_groupby(df)\n",
    "        df_prev = merge_months(df_prev, df)\n",
    "    traffic.append(df_prev)"
   ]
  },
  {
   "cell_type": "code",
   "execution_count": 6,
   "id": "f9d441e6-700c-47fe-aaef-9eb3533d253f",
   "metadata": {},
   "outputs": [],
   "source": [
    "merged = merge_months(traffic[0], traffic[1])\n",
    "merged = merge_months(merged, traffic[2])"
   ]
  },
  {
   "cell_type": "code",
   "execution_count": 7,
   "id": "959cc31f-b7b6-4773-9a20-cdef1a78aa9b",
   "metadata": {},
   "outputs": [],
   "source": [
    "# 다른 데이터 형식에 맞춰 column명 변경\n",
    "merged.rename(columns={'교통량_x_x' : '총 교통량'}, inplace=True)"
   ]
  },
  {
   "cell_type": "code",
   "execution_count": 8,
   "id": "3a66b756-1c6f-424d-bcce-839e3e853ee7",
   "metadata": {},
   "outputs": [],
   "source": [
    "merged.to_csv(\"../data/road/총 교통량_지점별.csv\", mode='w', encoding='euc-kr')"
   ]
  },
  {
   "cell_type": "code",
   "execution_count": null,
   "id": "972962ee-0271-42fc-b05e-1c60a6c6d9fa",
   "metadata": {},
   "outputs": [],
   "source": []
  }
 ],
 "metadata": {
  "kernelspec": {
   "display_name": "GIS",
   "language": "python",
   "name": "gis"
  },
  "language_info": {
   "codemirror_mode": {
    "name": "ipython",
    "version": 3
   },
   "file_extension": ".py",
   "mimetype": "text/x-python",
   "name": "python",
   "nbconvert_exporter": "python",
   "pygments_lexer": "ipython3",
   "version": "3.8.13"
  }
 },
 "nbformat": 4,
 "nbformat_minor": 5
}
