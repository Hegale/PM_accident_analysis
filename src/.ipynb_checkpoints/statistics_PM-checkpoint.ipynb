{
 "cells": [
  {
   "cell_type": "code",
   "execution_count": 1,
   "id": "aebf4e74-e97d-4441-a153-2cf1bbb25c77",
   "metadata": {
    "tags": []
   },
   "outputs": [],
   "source": [
    "import matplotlib.pyplot as plt\n",
    "import pandas as pd\n",
    "import numpy as np"
   ]
  },
  {
   "cell_type": "code",
   "execution_count": 2,
   "id": "37db1485-ba35-4590-a62a-950e9fd71e24",
   "metadata": {},
   "outputs": [],
   "source": [
    "accident_PM = pd.read_csv('C:\\GIS\\project\\data\\seoul\\seoul_accidentInfoList.csv')"
   ]
  },
  {
   "cell_type": "code",
   "execution_count": 3,
   "id": "948c897f-5771-4388-a501-c3b1494153c7",
   "metadata": {},
   "outputs": [],
   "source": [
    "age_attacker = pd.to_numeric(accident_PM['가해운전자 연령'].str.extract(r'(\\d+)')[0])\n",
    "age_victim = pd.to_numeric(accident_PM['피해운전자 연령'].str.extract(r'(\\d+)')[0])"
   ]
  },
  {
   "cell_type": "code",
   "execution_count": 4,
   "id": "eb5486e3-727f-439c-8c6e-db24cf18b754",
   "metadata": {},
   "outputs": [
    {
     "data": {
      "text/plain": [
       "(array([ 48., 171.,  96.,  41.,  12.,  13.,   5.]),\n",
       " array([ 9.        , 18.85714286, 28.71428571, 38.57142857, 48.42857143,\n",
       "        58.28571429, 68.14285714, 78.        ]),\n",
       " <BarContainer object of 7 artists>)"
      ]
     },
     "execution_count": 4,
     "metadata": {},
     "output_type": "execute_result"
    },
    {
     "data": {
      "image/png": "[encoded data removed]",
      "text/plain": [
       "<Figure size 432x288 with 1 Axes>"
      ]
     },
     "metadata": {
      "needs_background": "light"
     },
     "output_type": "display_data"
    }
   ],
   "source": [
    "age_interval = [10*i for i in range(10)]\n",
    "plt.title('attacker')\n",
    "plt.xticks(age_interval)\n",
    "plt.hist(age_attacker, bins=7, color = 'r', alpha = 0.5)"
   ]
  },
  {
   "cell_type": "code",
   "execution_count": 5,
   "id": "d2f7c6d4-1d64-4ded-8b21-91c5c1f424f2",
   "metadata": {},
   "outputs": [
    {
     "data": {
      "text/plain": [
       "(array([10., 42., 99., 59., 82., 49., 15.]),\n",
       " array([ 4.        , 15.42857143, 26.85714286, 38.28571429, 49.71428571,\n",
       "        61.14285714, 72.57142857, 84.        ]),\n",
       " <BarContainer object of 7 artists>)"
      ]
     },
     "execution_count": 5,
     "metadata": {},
     "output_type": "execute_result"
    },
    {
     "data": {
      "image/png": "[encoded data removed]",
      "text/plain": [
       "<Figure size 432x288 with 1 Axes>"
      ]
     },
     "metadata": {
      "needs_background": "light"
     },
     "output_type": "display_data"
    }
   ],
   "source": [
    "plt.title('victim')\n",
    "plt.xticks(age_interval)\n",
    "plt.hist(age_victim, bins=7, color = 'b', alpha = 0.5)"
   ]
  },
  {
   "cell_type": "code",
   "execution_count": null,
   "id": "9168451c-1001-4e09-98bb-d16be1da1258",
   "metadata": {},
   "outputs": [],
   "source": [
    "# pm 사고발생지역 구분\n",
    "accident = pd.read_csv('data/seoul/seoul_accidentInfoList.csv')\n",
    "accident = pd.DataFrame(accident)\n",
    "plt.title('pm')\n",
    "plt.xticks(age_interval)\n",
    "plt.hist(age_attacker, bins=7, color = 'r', alpha = 0.5)"
   ]
  }
 ],
 "metadata": {
  "kernelspec": {
   "display_name": "GIS",
   "language": "python",
   "name": "gis"
  },
  "language_info": {
   "codemirror_mode": {
    "name": "ipython",
    "version": 3
   },
   "file_extension": ".py",
   "mimetype": "text/x-python",
   "name": "python",
   "nbconvert_exporter": "python",
   "pygments_lexer": "ipython3",
   "version": "3.8.13"
  }
 },
 "nbformat": 4,
 "nbformat_minor": 5
}
