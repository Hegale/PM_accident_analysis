{
 "cells": [
  {
   "cell_type": "code",
   "execution_count": 3,
   "id": "c42e9b0f-0be9-4490-906f-709095c5454b",
   "metadata": {},
   "outputs": [],
   "source": [
    "import numpy as np\n",
    "import matplotlib.pyplot as plt\n",
    "from scipy.interpolate import Rbf\n",
    "import pandas as pd\n",
    "import geopandas as gpd\n",
    "import random\n",
    "import rasterio\n",
    "from PIL import Image\n",
    "import richdem as rd"
   ]
  },
  {
   "cell_type": "code",
   "execution_count": 2,
   "id": "c301138c-75a2-4704-8728-3463fc623ee2",
   "metadata": {},
   "outputs": [],
   "source": [
    "from osgeo import gdal\n",
    "from osgeo import osr\n",
    "import numpy\n",
    "from osgeo import ogr"
   ]
  },
  {
   "cell_type": "code",
   "execution_count": null,
   "id": "b181b444-b4c0-4bf0-ac6c-97e46a7cc498",
   "metadata": {},
   "outputs": [],
   "source": [
    "pts = ogr.Open(\"../data/shp/busStop4326.shp\", 0)\n",
    "layer = pts.GetLayer()\n",
    "\n",
    "for field in layer.schema:\n",
    "    print(field.name)\n",
    "\n",
    "dem = gdal.Open(\"dem.tif\")\n",
    "gt = dem.GetGeoTransform()\n",
    "\n",
    "ulx = gt[0]\n",
    "uly = gt[3]\n",
    "res = gt[1]\n",
    "\n",
    "xsize = dem.RasterXSize\n",
    "ysize = dem.RasterYSize\n",
    "\n",
    "lrx = ulx + xsize * res\n",
    "lry = uly - ysize * res\n",
    "\n",
    "dem = None\n",
    "pts = layer = None\n",
    "\n",
    "# nearest neighbor interpolation    \n",
    "nn = gdal.Grid(\"nearest.tif\", \"points.shp\", zfield=\"elevation\",\n",
    "               algorithm = \"nearest\", outputBounds = [ulx,uly,lrx,lry],\n",
    "               width = xsize, height = ysize)\n",
    "nn = None\n",
    "\n",
    "# moving average\n",
    "ma = gdal.Grid(\"average.tif\", \"points.shp\", zfield=\"elevation\",\n",
    "               algorithm = \"average:radius1=500:radius2=800:angle=20\",\n",
    "               outputBounds = [ulx,uly,lrx,lry],\n",
    "               width = xsize, height = ysize)\n",
    "ma = None\n",
    "\n",
    "# inverse distance to a power\n",
    "idw = gdal.Grid(\"invdist.tif\", \"points.shp\", zfield = \"elevation\",\n",
    "                algorithm = \"invdist:power=3:radius1=2000:radius2=2000\",\n",
    "                outputBounds = [ulx,uly,lrx,lry],\n",
    "                width = xsize, height = ysize)\n",
    "idw = None\n",
    "\n",
    "# linear interpolation\n",
    "lin = gdal.Grid(\"linear.tif\", \"points.shp\", zfield = \"elevation\",\n",
    "                algorithm = \"linear\",\n",
    "                outputBounds = [ulx,uly,lrx,lry],\n",
    "                width = xsize, height = ysize)\n",
    "lin = None"
   ]
  },
  {
   "cell_type": "code",
   "execution_count": null,
   "id": "8e5e19c2-a5fb-4fcc-80c5-7ed51ab20d16",
   "metadata": {},
   "outputs": [],
   "source": []
  }
 ],
 "metadata": {
  "kernelspec": {
   "display_name": "GIS",
   "language": "python",
   "name": "gis"
  },
  "language_info": {
   "codemirror_mode": {
    "name": "ipython",
    "version": 3
   },
   "file_extension": ".py",
   "mimetype": "text/x-python",
   "name": "python",
   "nbconvert_exporter": "python",
   "pygments_lexer": "ipython3",
   "version": "3.8.13"
  }
 },
 "nbformat": 4,
 "nbformat_minor": 5
}
