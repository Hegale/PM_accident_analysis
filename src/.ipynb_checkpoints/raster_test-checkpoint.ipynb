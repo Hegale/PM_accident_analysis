{
 "cells": [
  {
   "cell_type": "markdown",
   "id": "a5e252b0-311d-4733-944d-fabd016bd376",
   "metadata": {},
   "source": [
    "## 래스터 기능 정상작동 확인"
   ]
  },
  {
   "cell_type": "code",
   "execution_count": 7,
   "id": "4dd68b95-d487-4a32-831a-8f7b46b235f3",
   "metadata": {},
   "outputs": [],
   "source": [
    "import numpy as np\n",
    "import matplotlib.pyplot as plt\n",
    "from scipy.interpolate import Rbf\n",
    "import pandas as pd\n",
    "import geopandas as gpd\n",
    "import random\n",
    "import rasterio\n",
    "from PIL import Image\n",
    "import richdem as rd"
   ]
  },
  {
   "cell_type": "code",
   "execution_count": 8,
   "id": "635a767e-cd0c-4d3b-923c-ca4abdddd849",
   "metadata": {},
   "outputs": [],
   "source": [
    "def simple_idw(x, y, z, xi, yi):\n",
    "    dist = distance_matrix(x,y, xi,yi)\n",
    "\n",
    "    # 가중치 설정. 거리에 반비례하며, 거리 계수 p=2일 경우 dist**2로 설정 가능함.\n",
    "    weights = 1.0 / dist\n",
    "\n",
    "    # Make weights sum to one\n",
    "    weights /= weights.sum(axis=0)\n",
    "\n",
    "    # Multiply the weights for each interpolated point by all observed Z-values\n",
    "    zi = np.dot(weights.T, z)\n",
    "    return zi"
   ]
  },
  {
   "cell_type": "code",
   "execution_count": 9,
   "id": "631d70d0-59bf-44d8-9653-29179758b6e0",
   "metadata": {},
   "outputs": [],
   "source": [
    "# x0와 x1사이 거리를 반환.\n",
    "def distance_matrix(x0, y0, x1, y1):\n",
    "    # x, y를 별개의 1차원 배열이 아니라 [[x1, y1], [x2, y2]...] 처럼 \n",
    "    # (x, y) 짝을 이루는 2차원 배열로 만드는 과정 \n",
    "    obs = np.vstack((x0, y0)).T\n",
    "    interp = np.vstack((x1, y1)).T\n",
    "\n",
    "    # Make a distance matrix between pairwise observations\n",
    "    # Note: from <http://stackoverflow.com/questions/1871536>\n",
    "    # (Yay for ufuncs!)\n",
    "    # 거리 행렬 계산. 근데 굳이? 뒤집어서 또 슬라이싱? 굳이?\n",
    "    d0 = np.subtract.outer(obs[:,0], interp[:,0])\n",
    "    d1 = np.subtract.outer(obs[:,1], interp[:,1])\n",
    "\n",
    "    return np.hypot(d0, d1)"
   ]
  },
  {
   "cell_type": "code",
   "execution_count": 15,
   "id": "a4f9fae2-5ae6-4e49-8f77-83be5247362f",
   "metadata": {},
   "outputs": [],
   "source": [
    "def scipy_idw(x, y, z, xi, yi):\n",
    "    interp = Rbf(x, y, z, function='linear')\n",
    "    return interp(xi, yi)\n",
    "\n",
    "def plot(x,y,z,grid):\n",
    "    plt.figure()\n",
    "    # 래스터 출력. cmap으로 색상 변경 가능\n",
    "    plt.imshow(grid, extent=(x.min(), x.max(), y.max(), y.min()))\n",
    "    #plt.hold(True)\n",
    "    # 래스터 위에 점 찍기 (굳이?)\n",
    "    #plt.scatter(x,y,c=z)\n",
    "    plt.colorbar()"
   ]
  },
  {
   "cell_type": "code",
   "execution_count": 16,
   "id": "43d9e594-663a-4ab7-9704-114b97eb1ad1",
   "metadata": {},
   "outputs": [],
   "source": [
    "def main():\n",
    "    # Setup: Generate data...\n",
    "    # n = 랜덤생성되는 점의 개수\n",
    "    n = 10\n",
    "    nx, ny = 50, 50\n",
    "    x, y, z = map(np.random.random, [n, n, n])\n",
    "    # x, y, z 확인\n",
    "    print(x)\n",
    "    print(y)\n",
    "    print(z)\n",
    "    \n",
    "    # linearly spaced(배열 시작, 배열 끝, 요소개수)\n",
    "    #  : 시작과 끝값 사이에 요소 개수만큼 사잇값들을 자동생성\n",
    "    xi = np.linspace(x.min(), x.max(), nx)\n",
    "    yi = np.linspace(y.min(), y.max(), ny)\n",
    "    # meshgrid : 직사각형의 그리드 만들기\n",
    "    xi, yi = np.meshgrid(xi, yi)\n",
    "    xi, yi = xi.flatten(), yi.flatten()\n",
    "\n",
    "    # Calculate IDW\n",
    "    grid1 = simple_idw(x,y,z,xi,yi)\n",
    "    grid1 = grid1.reshape((ny, nx))\n",
    "\n",
    "    # Calculate scipy's RBF\n",
    "    grid2 = scipy_idw(x,y,z,xi,yi)\n",
    "    grid2 = grid2.reshape((ny, nx))\n",
    "\n",
    "    # Comparisons...\n",
    "    plot(x,y,z,grid1)\n",
    "    plt.title('Homemade IDW')\n",
    "\n",
    "    plot(x,y,z,grid2)\n",
    "    plt.title(\"Scipy's Rbf with function=linear\")\n",
    "\n",
    "    plt.show()"
   ]
  },
  {
   "cell_type": "code",
   "execution_count": 17,
   "id": "4d52da51-3f21-4071-81d6-8a38b40fb521",
   "metadata": {},
   "outputs": [
    {
     "name": "stdout",
     "output_type": "stream",
     "text": [
      "[0.46754281 0.90035646 0.88342574 0.55396469 0.04164162 0.93731881\n",
      " 0.74051981 0.6495089  0.54945129 0.63292253]\n",
      "[0.90046529 0.62514694 0.87748438 0.60928175 0.38876617 0.77285269\n",
      " 0.83847985 0.42311909 0.12264947 0.51193696]\n",
      "[0.85590349 0.29616624 0.61966106 0.57608512 0.18205814 0.37723453\n",
      " 0.83704551 0.67290522 0.97275635 0.80988198]\n"
     ]
    },
    {
     "data": {
      "image/png": "[encoded data removed]",
      "text/plain": [
       "<Figure size 432x288 with 2 Axes>"
      ]
     },
     "metadata": {
      "needs_background": "light"
     },
     "output_type": "display_data"
    },
    {
     "data": {
      "image/png": "[encoded data removed]",
      "text/plain": [
       "<Figure size 432x288 with 2 Axes>"
      ]
     },
     "metadata": {
      "needs_background": "light"
     },
     "output_type": "display_data"
    }
   ],
   "source": [
    "main()"
   ]
  },
  {
   "cell_type": "code",
   "execution_count": null,
   "id": "4b3d3530-856f-4b87-acf3-16073dac19dd",
   "metadata": {},
   "outputs": [],
   "source": [
    "def idw_rblock(xz,yz,r,p): \n",
    "    xr_min=xz-r\n",
    "    xr_max=xz+r\n",
    "    yr_min=yz-r\n",
    "    yr_max=yz+r\n",
    "    for i in range(len(x)):\n",
    "        # condition to test if a point is within the block\n",
    "        if ((x[i]>=xr_min and x[i]<=xr_max) and (y[i]>=yr_min and y[i]<=yr_max)):\n",
    "            x_block.append(x[i])\n",
    "            y_block.append(y[i])\n",
    "            z_block.append(z[i])\n",
    "            \n",
    "    #calculate weight based on distance and p value\n",
    "    w_list=[]\n",
    "    for j in range(len(x_block)):\n",
    "        d=distance(xz,yz,x_block[j],y_block[j]) #distance function is created outside this function\n",
    "        if d>0:\n",
    "            w=1/(d**p)\n",
    "            w_list.append(w)\n",
    "            z0=0\n",
    "        else:\n",
    "            w_list.append(0) #if meet this condition, it means d<=0, weight is set to 0\n",
    "    \n",
    "    #check if there is 0 in weight list\n",
    "    w_check=0 in w_list\n",
    "    if w_check==True:\n",
    "        idx=w_list.index(0) # find index for weight=0\n",
    "        z_idw=z_block[idx] # set the value to the current sample value\n",
    "    else:\n",
    "        wt=np.transpose(w_list)\n",
    "        z_idw=np.dot(z_block,wt)/sum(w_list) # idw calculation using dot product\n",
    "    return z_idw"
   ]
  }
 ],
 "metadata": {
  "kernelspec": {
   "display_name": "GIS",
   "language": "python",
   "name": "gis"
  },
  "language_info": {
   "codemirror_mode": {
    "name": "ipython",
    "version": 3
   },
   "file_extension": ".py",
   "mimetype": "text/x-python",
   "name": "python",
   "nbconvert_exporter": "python",
   "pygments_lexer": "ipython3",
   "version": "3.8.13"
  }
 },
 "nbformat": 4,
 "nbformat_minor": 5
}
