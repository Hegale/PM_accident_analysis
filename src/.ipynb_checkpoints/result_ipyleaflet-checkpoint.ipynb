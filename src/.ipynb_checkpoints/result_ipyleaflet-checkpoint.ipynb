{
 "cells": [
  {
   "cell_type": "code",
   "execution_count": 1,
   "id": "15230422-ba34-4c9d-9863-d531003d5c29",
   "metadata": {},
   "outputs": [],
   "source": [
    "from ipyleaflet import Map, Marker, GeoData, FullScreenControl, RasterLayer\n",
    "import matplotlib.pyplot as plt\n",
    "import pandas as pd\n",
    "import geopandas as gpd\n",
    "import numpy as np\n",
    "import rasterio\n",
    "import os\n",
    "import geemap"
   ]
  },
  {
   "cell_type": "markdown",
   "id": "3363b280",
   "metadata": {},
   "source": [
    "## 데이터 불러오기"
   ]
  },
  {
   "cell_type": "code",
   "execution_count": 2,
   "id": "f067f1a2-8674-4009-bb40-6c7e880c54f2",
   "metadata": {},
   "outputs": [],
   "source": [
    "# 포인트 좌표\n",
    "pm_accident_csv = pd.read_csv('../data/PM/pm4326.csv')\n",
    "pm4326 = gpd.points_from_xy(x = pm_accident_csv['경도'], y = pm_accident_csv['위도'])\n",
    "pm4326 = gpd.GeoDataFrame(pm_accident_csv, geometry = pm4326)\n",
    "pm4326.crs = 'epsg:4326'\n",
    "\n",
    "# 실폭도로 polygon 데이터 불러오기\n",
    "road_polygon = gpd.read_file('../data/road/buffer_road_4326.shp', encoding='euc-kr')\n",
    "\n",
    "# 결과 래스터 불러오기\n",
    "raster = rasterio.open('../data/raster/result_raster.tif')"
   ]
  },
  {
   "cell_type": "markdown",
   "id": "c98711a3",
   "metadata": {},
   "source": [
    "## ipyleaflet map 기본설정"
   ]
  },
  {
   "cell_type": "code",
   "execution_count": 3,
   "id": "7c135d8e",
   "metadata": {},
   "outputs": [],
   "source": [
    "# ipyleaflet 으로 지도 불러오기\n",
    "center = (37.5642153, 127.0016985)\n",
    "seoul = Map(center=center, zoom=11)\n",
    "seoul.add_control(FullScreenControl())"
   ]
  },
  {
   "cell_type": "code",
   "execution_count": 4,
   "id": "aa2e2476",
   "metadata": {},
   "outputs": [],
   "source": [
    "# 도로 올리기\n",
    "seoul_road = GeoData(geo_dataframe = road_polygon,\n",
    "    style={'color': 'black', 'fillColor': '#fa8072', 'opacity':0.05, 'weight':1.9, 'dashArray':'2', 'fillOpacity':0.6},\n",
    "    hover_style={'fillColor': 'red' , 'fillOpacity': 0.2},\n",
    "    name = 'Road')\n",
    "\n",
    "# pm 사고지점을 geodata로\n",
    "seoul_pm = GeoData(geo_dataframe = pm4326,\n",
    "    style={'color': 'black', 'radius':8, 'fillColor': '#3366cc', 'opacity':0.5, 'weight':1.9, 'dashArray':'2', 'fillOpacity':0.6},\n",
    "    hover_style={'fillColor': 'red' , 'fillOpacity': 0.2},\n",
    "    point_style={'radius': 5, 'color': 'red', 'fillOpacity': 0.8, 'fillColor': 'blue', 'weight': 3},\n",
    "    name = 'Release')"
   ]
  },
  {
   "cell_type": "code",
   "execution_count": null,
   "id": "4fadf5dc",
   "metadata": {},
   "outputs": [],
   "source": [
    "# 래스터 데이터를 geodata로\n",
    "xmin, xmax = 126.75, 127.2\n",
    "ymin, ymax = 37.4, 37.7\n",
    "bounds = [(xmin, ymin), (xmax, ymax)]\n",
    "seoul.image_overlay('../data/raster/result_raster.tif', bounds, 'legend')"
   ]
  },
  {
   "cell_type": "code",
   "execution_count": null,
   "id": "4a2ec416",
   "metadata": {},
   "outputs": [],
   "source": [
    "seoul.add_layer(road_polygon)\n",
    "seoul.add_layer(pm_points);"
   ]
  }
 ],
 "metadata": {
  "kernelspec": {
   "display_name": "GIS",
   "language": "python",
   "name": "gis"
  },
  "language_info": {
   "codemirror_mode": {
    "name": "ipython",
    "version": 3
   },
   "file_extension": ".py",
   "mimetype": "text/x-python",
   "name": "python",
   "nbconvert_exporter": "python",
   "pygments_lexer": "ipython3",
   "version": "3.8.13"
  }
 },
 "nbformat": 4,
 "nbformat_minor": 5
}
