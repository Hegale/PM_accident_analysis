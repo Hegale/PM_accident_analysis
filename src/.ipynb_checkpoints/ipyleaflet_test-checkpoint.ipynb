{
 "cells": [
  {
   "cell_type": "code",
   "execution_count": 24,
   "id": "fc597eef-6087-4a39-996d-a0d7c474cbc1",
   "metadata": {},
   "outputs": [
    {
     "data": {
      "application/vnd.jupyter.widget-view+json": {
       "model_id": "59ff9d6dbfaa45cf8c55bc61b762ed14",
       "version_major": 2,
       "version_minor": 0
      },
      "text/plain": [
       "Map(center=[37.5642153, 127.0016985], controls=(ZoomControl(options=['position', 'zoom_in_text', 'zoom_in_titl…"
      ]
     },
     "metadata": {},
     "output_type": "display_data"
    }
   ],
   "source": [
    "from ipyleaflet import Map, basemaps, basemap_to_tiles\n",
    "\n",
    "m = Map(center=(37.5642153, 127.0016985), zoom=11)\n",
    "\n",
    "m"
   ]
  },
  {
   "cell_type": "code",
   "execution_count": 25,
   "id": "ff02b6bc-20fe-4742-8d04-d062d829286b",
   "metadata": {},
   "outputs": [
    {
     "data": {
      "application/vnd.jupyter.widget-view+json": {
       "model_id": "09025910545e4407be35ee20a18a5476",
       "version_major": 2,
       "version_minor": 0
      },
      "text/plain": [
       "Map(center=[52.204793, 360.121558], controls=(ZoomControl(options=['position', 'zoom_in_text', 'zoom_in_title'…"
      ]
     },
     "metadata": {},
     "output_type": "display_data"
    }
   ],
   "source": [
    "from ipyleaflet import Map, Marker\n",
    "\n",
    "center = (52.204793, 360.121558)\n",
    "\n",
    "m = Map(center=center, zoom=15)\n",
    "\n",
    "marker = Marker(location=center, draggable=False)\n",
    "m.add_layer(marker);\n",
    "\n",
    "m"
   ]
  },
  {
   "cell_type": "code",
   "execution_count": 28,
   "id": "c48c0602-79f4-4063-8fd6-2f2265a24000",
   "metadata": {},
   "outputs": [
    {
     "data": {
      "application/vnd.jupyter.widget-view+json": {
       "model_id": "d6f75479c4f74d648d6fca5e86ee5358",
       "version_major": 2,
       "version_minor": 0
      },
      "text/plain": [
       "Map(center=[38.91342738235981, -77.03912909142674], controls=(ZoomControl(options=['position', 'zoom_in_text',…"
      ]
     },
     "metadata": {},
     "output_type": "display_data"
    }
   ],
   "source": [
    "from ipyleaflet import AwesomeIcon, Marker, Map\n",
    "\n",
    "center = (38.91342738235981, -77.03912909142674)\n",
    "\n",
    "icon1 = AwesomeIcon(\n",
    "    name='bus',\n",
    "    marker_color='red',\n",
    "    icon_color='black',\n",
    "    spin=False\n",
    ")\n",
    "\n",
    "marker1 = Marker(icon=icon1, location=(center[0], center[1] - 0.05))\n",
    "\n",
    "icon2 = AwesomeIcon(\n",
    "    name='gear',\n",
    "    marker_color='green',\n",
    "    icon_color='darkgreen',\n",
    "    spin=True\n",
    ")\n",
    "\n",
    "marker2 = Marker(icon=icon2, location=(center[0], center[1] + 0.05))\n",
    "\n",
    "m = Map(center=center, zoom=13)\n",
    "\n",
    "m.add_layer(marker1)\n",
    "m.add_layer(marker2)\n",
    "\n",
    "m"
   ]
  },
  {
   "cell_type": "code",
   "execution_count": null,
   "id": "22dc7173-9d25-4ef1-aae0-0e0f5083e4a1",
   "metadata": {},
   "outputs": [],
   "source": []
  }
 ],
 "metadata": {
  "kernelspec": {
   "display_name": "GIS",
   "language": "python",
   "name": "gis"
  },
  "language_info": {
   "codemirror_mode": {
    "name": "ipython",
    "version": 3
   },
   "file_extension": ".py",
   "mimetype": "text/x-python",
   "name": "python",
   "nbconvert_exporter": "python",
   "pygments_lexer": "ipython3",
   "version": "3.8.13"
  }
 },
 "nbformat": 4,
 "nbformat_minor": 5
}
