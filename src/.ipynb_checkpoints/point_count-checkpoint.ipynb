{
 "cells": [
  {
   "cell_type": "code",
   "execution_count": null,
   "id": "610d831d-99a8-4b2b-adc3-0adf93fb02ab",
   "metadata": {},
   "outputs": [],
   "source": [
    "import geopandas as gpd\n",
    "import pandas as pd\n",
    "import matplotlib.pyplot as plt\n",
    "import geoplot\n",
    "import rasterio\n",
    "from rasterio.plot import show\n",
    "import geopandas as gpd\n",
    "from ipyleaflet import *\n",
    "import seaborn as sns\n",
    "%matplotlib inline\n",
    "import fiona\n",
    "from matplotlib import pyplot as plt\n",
    "from rasterio.plot import show\n",
    "from rasterio.mask import mask\n",
    "from ipywidgets import IntSlider, ColorPicker, jslink\n",
    "from ipyleaflet import Map, basemaps, basemap_to_tiles, DrawControl"
   ]
  },
  {
   "cell_type": "code",
   "execution_count": null,
   "id": "f58711d9-51d4-471c-8fa7-8865a413f345",
   "metadata": {},
   "outputs": [],
   "source": [
    "pm_geometry = gpd.read_file('../data/PM/accident_points_geo.shp', encoding='euc-kr')\n",
    "cw = gpd.read_file('../data/shp/5181/cw100.shp', encoding='euc-kr')\n",
    "tl = gpd.read_file('../data/shp/5181/tl100.shp', encoding='euc-kr')\n",
    "bs = gpd.read_file('../data/shp/5181/bs100.shp', encoding='euc-kr')"
   ]
  },
  {
   "cell_type": "markdown",
   "id": "886d2250-157d-4e16-ac03-ed5cfb761e4e",
   "metadata": {},
   "source": [
    "point_count = gpd.sjoin(pm_geometry, cw, how='left', op='intersects')\n",
    "결과 = gpd.sjoin(포인트 객체, 폴리곤 객체, how = 'left', op = 'intersects')\n",
    "객체명.count()"
   ]
  },
  {
   "cell_type": "code",
   "execution_count": null,
   "id": "b7e1be00-c090-44f4-b74b-d1aa0d217667",
   "metadata": {},
   "outputs": [],
   "source": [
    "point_intersection1 = gpd.sjoin(pm_geometry, cw, how='inner', op='intersects')\n",
    "point_intersection1.plot()\n",
    "\n",
    "point_intersection2 = gpd.sjoin(pm_geometry, tl, how='inner', op='intersects')\n",
    "point_intersection2.plot()\n",
    "\n",
    "point_intersection3 = gpd.sjoin(pm_geometry, bs, how='inner', op='intersects')\n",
    "point_intersection3.plot()"
   ]
  },
  {
   "cell_type": "code",
   "execution_count": null,
   "id": "0b9c42ff-ed7c-4d29-a4c6-de3b51448b55",
   "metadata": {},
   "outputs": [],
   "source": [
    "data=[['Crosswalk',len(point_intersection1)],['Traffic Light',len(point_intersection2)],['Bus stop',len(point_intersection3)]]\n",
    "\n",
    "df=pd.DataFrame(data,columns=[\"factor\",\"count\"])\n",
    "print(df)"
   ]
  },
  {
   "cell_type": "code",
   "execution_count": null,
   "id": "00b6e626-962a-49a9-9bab-588b836730c3",
   "metadata": {},
   "outputs": [],
   "source": [
    "df.plot(x=\"factor\", y=\"count\", kind=\"bar\", rot=0, width=0.2, color= '#FF6633', figsize=(6,5))\n",
    "\n",
    "plt.title('Number of accidents by factor')\n",
    "plt.xlabel('factor')\n",
    "plt.ylabel('count')\n",
    "plt.ylim(0,45)\n",
    "plt.rcParams['font.size']=14\n",
    "plt.savefig('../img/accident_points.png')"
   ]
  },
  {
   "cell_type": "markdown",
   "id": "558dda9c-212f-4eaf-a78d-414d53115cee",
   "metadata": {},
   "source": [
    "신호등 유무와 관계없이 횡단보도 주변에서 사고가 빈번히 발생함"
   ]
  },
  {
   "cell_type": "code",
   "execution_count": null,
   "id": "6bd948d4-fb7d-4214-8aa5-1bdb808569c9",
   "metadata": {},
   "outputs": [],
   "source": []
  }
 ],
 "metadata": {
  "kernelspec": {
   "display_name": "Python 3 (ipykernel)",
   "language": "python",
   "name": "python3"
  },
  "language_info": {
   "codemirror_mode": {
    "name": "ipython",
    "version": 3
   },
   "file_extension": ".py",
   "mimetype": "text/x-python",
   "name": "python",
   "nbconvert_exporter": "python",
   "pygments_lexer": "ipython3",
   "version": "3.8.13"
  }
 },
 "nbformat": 4,
 "nbformat_minor": 5
}
