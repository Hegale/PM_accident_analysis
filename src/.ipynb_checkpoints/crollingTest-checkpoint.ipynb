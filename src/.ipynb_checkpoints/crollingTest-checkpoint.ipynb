{
 "cells": [
  {
   "cell_type": "code",
   "execution_count": 1,
   "id": "df98bcff-c434-446c-aafb-089c726c4e39",
   "metadata": {},
   "outputs": [],
   "source": [
    "import requests\n",
    "from bs4 import BeautifulSoup\n",
    "from selenium import webdriver\n",
    "from selenium.webdriver.support.select import Select\n",
    "from selenium.webdriver.support.ui import WebDriverWait\n",
    "from selenium.webdriver.support import expected_conditions as EC\n",
    "from selenium.webdriver.common.by import By\n",
    "from selenium.webdriver.common.keys import Keys\n",
    "import time"
   ]
  },
  {
   "cell_type": "markdown",
   "id": "af096bd0-ed75-4b0a-a4fc-6cd57c50dd79",
   "metadata": {},
   "source": [
    "url = \"http://taas.koroad.or.kr/gis/mcm/mcl/initMap.do?menuId=GIS_GMP_STS_RSN\"\n",
    "# response변수는 get의 반환값인 Response 객체이다. 객체이다!!\n",
    "response = requests.get(url)\n",
    "# html 변수는 Response 객체의 text를 저장한다(html문서임)\n",
    "html = response.text"
   ]
  },
  {
   "cell_type": "markdown",
   "id": "2995806d-bf00-48a8-a322-c153316debcd",
   "metadata": {},
   "source": [
    "soup = BeautifulSoup(html, \"html5lib\")"
   ]
  },
  {
   "cell_type": "markdown",
   "id": "e7201083-6d1a-4b80-93a4-966e90018562",
   "metadata": {},
   "source": [
    "//*[@id=\"ptsRafSigungu\"]"
   ]
  },
  {
   "cell_type": "markdown",
   "id": "c3e421fa-2508-493a-8b5d-5a36383a66a5",
   "metadata": {},
   "source": [
    "# PM만 선택 (외않되)\n",
    "select_PM = driver.find_elements_by_xpath(\"//*[@id='ptsRaf-WRNGDO_VHCLE_ASORT_CODE']//*[@id='ptsRaf-WRNGDO_VHCLE_ASORT_CODE']/div//*[@id='ptsRafCh1PerpetratorVehicleType']//*[@id='ptsRafCh1PerpetratorVehicleType']//*[@id='ptsRafCh1PerpetratorVehicleType']/li[9]\")"
   ]
  },
  {
   "cell_type": "code",
   "execution_count": 2,
   "id": "6124de56-64ca-4173-b9cf-9eb57cb1893b",
   "metadata": {},
   "outputs": [
    {
     "name": "stdout",
     "output_type": "stream",
     "text": [
      "개인형 이동장치 PM, 공존을 묻다\n"
     ]
    }
   ],
   "source": [
    "driver = webdriver.Chrome()\n",
    "driver.get(\"http://mabu.newscloud.sbs.co.kr/pm/\")\n",
    "print(driver.title)"
   ]
  },
  {
   "cell_type": "code",
   "execution_count": 8,
   "id": "295719df-5bbf-41d2-a785-6afa73d0695d",
   "metadata": {},
   "outputs": [
    {
     "name": "stdout",
     "output_type": "stream",
     "text": [
      "<selenium.webdriver.remote.webelement.WebElement (session=\"aebd30b74719197ddd04076535dbc091\", element=\"c5cf93d4-be70-410b-8304-1aeb8619cd05\")>\n"
     ]
    },
    {
     "name": "stderr",
     "output_type": "stream",
     "text": [
      "C:\\Users\\Juyeon\\AppData\\Local\\Temp\\ipykernel_9176\\1492619442.py:2: DeprecationWarning: find_elements_by_* commands are deprecated. Please use find_elements() instead\n",
      "  select_ = driver.find_elements_by_xpath(\"//*[@id='root']/div/div[3]/div[3]/div[2]/canvas\")\n"
     ]
    }
   ],
   "source": [
    "# 사망사고를 포함한 모든 사고유형 선택\n",
    "select_ = driver.find_elements_by_xpath(\"//*[@id='root']/div/div[3]/div[3]/div[2]/canvas\")\n",
    "for s in select_:\n",
    "    print(s)"
   ]
  },
  {
   "cell_type": "code",
   "execution_count": 5,
   "id": "6b49bec1-2404-4a4a-a905-be1ec1c6feaa",
   "metadata": {},
   "outputs": [
    {
     "name": "stderr",
     "output_type": "stream",
     "text": [
      "C:\\Users\\Juyeon\\AppData\\Local\\Temp\\ipykernel_2624\\3904253499.py:1: DeprecationWarning: find_element_by_* commands are deprecated. Please use find_element() instead\n",
      "  select_attacker = driver.find_element_by_xpath(\"//*[@id='ptsRaf-WRNGDO_VHCLE_ASORT_CODE']/a\").click()\n",
      "C:\\Users\\Juyeon\\AppData\\Local\\Temp\\ipykernel_2624\\3904253499.py:3: DeprecationWarning: find_element_by_* commands are deprecated. Please use find_element() instead\n",
      "  select_pm = driver.find_element_by_xpath(\"//*[@id='ptsRafCh1PerpetratorVehicleType']/li[9]/input\").click()\n",
      "C:\\Users\\Juyeon\\AppData\\Local\\Temp\\ipykernel_2624\\3904253499.py:4: DeprecationWarning: find_element_by_* commands are deprecated. Please use find_element() instead\n",
      "  select_close = driver.find_element_by_xpath(\"//*[@id='chk_ok']\")\n"
     ]
    }
   ],
   "source": [
    "driver.implicitly_wait(5)"
   ]
  },
  {
   "cell_type": "code",
   "execution_count": 6,
   "id": "558e0472-e4f9-4b85-b8ab-be40d034d0fd",
   "metadata": {},
   "outputs": [
    {
     "name": "stderr",
     "output_type": "stream",
     "text": [
      "C:\\Users\\Juyeon\\AppData\\Local\\Temp\\ipykernel_2624\\741071508.py:1: DeprecationWarning: find_element_by_* commands are deprecated. Please use find_element() instead\n",
      "  select_search = driver.find_element_by_xpath(\"//*[@id='regionAccidentFind']/div[2]/p/a\")\n"
     ]
    }
   ],
   "source": [
    "\n",
    "time.sleep(10)"
   ]
  },
  {
   "cell_type": "code",
   "execution_count": null,
   "id": "f941e4fe-ee23-41af-bbce-9c21a4a66026",
   "metadata": {},
   "outputs": [],
   "source": []
  }
 ],
 "metadata": {
  "kernelspec": {
   "display_name": "GIS",
   "language": "python",
   "name": "gis"
  },
  "language_info": {
   "codemirror_mode": {
    "name": "ipython",
    "version": 3
   },
   "file_extension": ".py",
   "mimetype": "text/x-python",
   "name": "python",
   "nbconvert_exporter": "python",
   "pygments_lexer": "ipython3",
   "version": "3.8.13"
  }
 },
 "nbformat": 4,
 "nbformat_minor": 5
}
