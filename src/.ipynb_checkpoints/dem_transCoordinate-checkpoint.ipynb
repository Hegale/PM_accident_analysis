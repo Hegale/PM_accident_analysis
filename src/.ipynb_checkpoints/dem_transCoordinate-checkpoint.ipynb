{
 "cells": [
  {
   "cell_type": "markdown",
   "id": "8454721c-2140-4ead-b1ed-65cc95f02141",
   "metadata": {},
   "source": [
    "### dem의 좌표계를 변환하고 경사도 tiff 생성 및 저장"
   ]
  },
  {
   "cell_type": "code",
   "execution_count": 65,
   "id": "0fb4c872-d3ed-4b33-be34-b7703236c60d",
   "metadata": {},
   "outputs": [],
   "source": [
    "from osgeo import gdal\n",
    "from osgeo import osr\n",
    "import numpy as np\n",
    "import rasterio as rio\n",
    "import matplotlib.pyplot as plt\n",
    "from rasterio.plot import show\n",
    "import richdem as rd\n",
    "from rasterio.warp import calculate_default_transform, reproject, Resampling"
   ]
  },
  {
   "cell_type": "markdown",
   "id": "8efeffc8-045c-4110-9b3c-837c8ccffad0",
   "metadata": {},
   "source": [
    "### 래스터 좌표계 변경"
   ]
  },
  {
   "cell_type": "code",
   "execution_count": 66,
   "id": "5e4235c2-cc1e-4f7d-bd77-8dda48db60a7",
   "metadata": {},
   "outputs": [
    {
     "name": "stdout",
     "output_type": "stream",
     "text": [
      "GEOGCS[\"WGS 84\",DATUM[\"WGS_1984\",SPHEROID[\"WGS 84\",6378137,298.257223563,AUTHORITY[\"EPSG\",\"7030\"]],AUTHORITY[\"EPSG\",\"6326\"]],PRIMEM[\"Greenwich\",0,AUTHORITY[\"EPSG\",\"8901\"]],UNIT[\"degree\",0.0174532925199433,AUTHORITY[\"EPSG\",\"9122\"]],AXIS[\"Latitude\",NORTH],AXIS[\"Longitude\",EAST],AUTHORITY[\"EPSG\",\"4326\"]]\n"
     ]
    }
   ],
   "source": [
    "# gdal로 open\n",
    "dem4326 = gdal.Open('../data/raster/dem1.tif')\n",
    "print(dem4326.GetProjection())"
   ]
  },
  {
   "cell_type": "code",
   "execution_count": 67,
   "id": "d25331e3-6e6a-4900-b9c7-d37d1b7ffcce",
   "metadata": {},
   "outputs": [],
   "source": [
    "# dem 데이터 자체를 4326으로 변환\n",
    "p = osr.SpatialReference()\n",
    "res = p.ImportFromEPSG(4326)\n",
    "if res != 0 :\n",
    "    raise RuntimeError(repr(res) + ': could not import from EPSG')\n",
    "res_wkt = p.ExportToWkt()\n",
    "raster_out = dem4326.SetProjection(res_wkt)"
   ]
  },
  {
   "cell_type": "code",
   "execution_count": 95,
   "id": "f9d01f9c-7d2c-4080-811d-8b4dca05da70",
   "metadata": {},
   "outputs": [
    {
     "data": {
      "text/plain": [
       "osgeo.gdal.Dataset"
      ]
     },
     "execution_count": 95,
     "metadata": {},
     "output_type": "execute_result"
    }
   ],
   "source": [
    "type(dem4326)"
   ]
  },
  {
   "cell_type": "code",
   "execution_count": 94,
   "id": "c610a40c-3af6-48ec-9b87-ea77134624dc",
   "metadata": {},
   "outputs": [],
   "source": [
    "#dir(dem4326)"
   ]
  },
  {
   "cell_type": "code",
   "execution_count": 103,
   "id": "e3bf18e8-f685-4ed3-91e6-4a529650da16",
   "metadata": {},
   "outputs": [
    {
     "ename": "ValueError",
     "evalue": "Received a NULL pointer.",
     "output_type": "error",
     "traceback": [
      "\u001b[1;31m---------------------------------------------------------------------------\u001b[0m",
      "\u001b[1;31mValueError\u001b[0m                                Traceback (most recent call last)",
      "Input \u001b[1;32mIn [103]\u001b[0m, in \u001b[0;36m<cell line: 3>\u001b[1;34m()\u001b[0m\n\u001b[0;32m      1\u001b[0m \u001b[38;5;66;03m# 새 tif로 저장\u001b[39;00m\n\u001b[0;32m      2\u001b[0m driver \u001b[38;5;241m=\u001b[39m gdal\u001b[38;5;241m.\u001b[39mGetDriverByName(\u001b[38;5;124m'\u001b[39m\u001b[38;5;124mGTiff\u001b[39m\u001b[38;5;124m'\u001b[39m)\n\u001b[1;32m----> 3\u001b[0m tods \u001b[38;5;241m=\u001b[39m \u001b[43mdriver\u001b[49m\u001b[38;5;241;43m.\u001b[39;49m\u001b[43mCreateCopy\u001b[49m\u001b[43m(\u001b[49m\u001b[38;5;124;43m'\u001b[39;49m\u001b[38;5;124;43mdem4326.tif\u001b[39;49m\u001b[38;5;124;43m'\u001b[39;49m\u001b[43m,\u001b[49m\u001b[43m \u001b[49m\u001b[43mdem4326\u001b[49m\u001b[43m,\u001b[49m\u001b[43m \u001b[49m\u001b[38;5;241;43m0\u001b[39;49m\u001b[43m)\u001b[49m\n\u001b[0;32m      4\u001b[0m dem4326 \u001b[38;5;241m=\u001b[39m \u001b[38;5;28;01mNone\u001b[39;00m\n\u001b[0;32m      5\u001b[0m tods \u001b[38;5;241m=\u001b[39m \u001b[38;5;28;01mNone\u001b[39;00m\n",
      "File \u001b[1;32mC:\\miniforge\\envs\\gis\\lib\\site-packages\\osgeo\\gdal.py:2011\u001b[0m, in \u001b[0;36mDriver.CreateCopy\u001b[1;34m(self, *args, **kwargs)\u001b[0m\n\u001b[0;32m   2009\u001b[0m \u001b[38;5;28;01mdef\u001b[39;00m \u001b[38;5;21mCreateCopy\u001b[39m(\u001b[38;5;28mself\u001b[39m, \u001b[38;5;241m*\u001b[39margs, \u001b[38;5;241m*\u001b[39m\u001b[38;5;241m*\u001b[39mkwargs):\n\u001b[0;32m   2010\u001b[0m     \u001b[38;5;124;03m\"\"\"CreateCopy(Driver self, char const * utf8_path, Dataset src, int strict=1, char ** options=None, GDALProgressFunc callback=0, void * callback_data=None) -> Dataset\"\"\"\u001b[39;00m\n\u001b[1;32m-> 2011\u001b[0m     \u001b[38;5;28;01mreturn\u001b[39;00m \u001b[43m_gdal\u001b[49m\u001b[38;5;241;43m.\u001b[39;49m\u001b[43mDriver_CreateCopy\u001b[49m\u001b[43m(\u001b[49m\u001b[38;5;28;43mself\u001b[39;49m\u001b[43m,\u001b[49m\u001b[43m \u001b[49m\u001b[38;5;241;43m*\u001b[39;49m\u001b[43margs\u001b[49m\u001b[43m,\u001b[49m\u001b[43m \u001b[49m\u001b[38;5;241;43m*\u001b[39;49m\u001b[38;5;241;43m*\u001b[39;49m\u001b[43mkwargs\u001b[49m\u001b[43m)\u001b[49m\n",
      "\u001b[1;31mValueError\u001b[0m: Received a NULL pointer."
     ]
    }
   ],
   "source": [
    "# 새 tif로 저장\n",
    "driver = gdal.GetDriverByName('GTiff')\n",
    "tods = driver.CreateCopy('dem4326.tif', dem4326, 0)\n",
    "dem4326 = None\n",
    "tods = None"
   ]
  },
  {
   "cell_type": "code",
   "execution_count": null,
   "id": "7fb38b0c-c8f5-4d48-90b8-c4322c247230",
   "metadata": {},
   "outputs": [],
   "source": []
  }
 ],
 "metadata": {
  "kernelspec": {
   "display_name": "GIS",
   "language": "python",
   "name": "gis"
  },
  "language_info": {
   "codemirror_mode": {
    "name": "ipython",
    "version": 3
   },
   "file_extension": ".py",
   "mimetype": "text/x-python",
   "name": "python",
   "nbconvert_exporter": "python",
   "pygments_lexer": "ipython3",
   "version": "3.8.13"
  }
 },
 "nbformat": 4,
 "nbformat_minor": 5
}
